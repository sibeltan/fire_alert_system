{
 "cells": [
  {
   "cell_type": "code",
   "execution_count": 51,
   "metadata": {},
   "outputs": [],
   "source": [
    "# Usual imports\n",
    "import pandas as pd\n",
    "import numpy as np\n",
    "import matplotlib.pyplot as plt\n",
    "\n",
    "# Python's OS Package\n",
    "import os\n",
    "\n",
    "# sklearn imports\n",
    "from sklearn.feature_extraction.text import TfidfVectorizer, ENGLISH_STOP_WORDS\n",
    "from sklearn.pipeline import Pipeline, FeatureUnion\n",
    "from sklearn.preprocessing import FunctionTransformer\n",
    "from sklearn.model_selection import GridSearchCV, train_test_split, cross_val_score\n",
    "from sklearn.linear_model import LogisticRegression\n",
    "from sklearn.neighbors import KNeighborsClassifier\n",
    "from sklearn.ensemble import RandomForestClassifier,BaggingClassifier\n",
    "from sklearn.feature_extraction import stop_words\n",
    "from sklearn.metrics import confusion_matrix, classification_report, accuracy_score, auc, roc_curve, roc_auc_score\n",
    "from xgboost.sklearn import XGBClassifier\n",
    "from sklearn import svm\n"
   ]
  },
  {
   "cell_type": "markdown",
   "metadata": {},
   "source": [
    "# Table of contents\n",
    "1. [Introduction](#data)      \n",
    "    1.1 [Stop Words](#stop)\n",
    "2. [Modeling](#modeling)                \n",
    "   2.1 [Train Test Split](#tts)        \n",
    "   2.2 [TF-idf and Logistic Regression](#logistic)            \n",
    "   2.3 [TF-idf and RandomForest Classifier](#random)                    \n",
    "   2.4 [TF-idf and Bagging Classifier](#bagging)                 \n",
    "   2.5 [TF-idf and KNearestNeighbors Classifier](#knn)            \n",
    "   2.6 [TF-idf and XGBClassifier](#xgboost)               \n",
    "3. [Final Model Scores](#scores)                        \n",
    "   3.1 [ROC AUC Curve](#rocauc)                                    \n",
    "   3.2 [Distribution](#distribution)             \n",
    "   3.3 [Term Weights](#weight)\n",
    "4. [Pickle for Flask App](#pickle)\n"
   ]
  },
  {
   "cell_type": "markdown",
   "metadata": {},
   "source": [
    "# Importing Data\n",
    "<a id = 'data'> </a> "
   ]
  },
  {
   "cell_type": "code",
   "execution_count": 4,
   "metadata": {},
   "outputs": [],
   "source": [
    "model_df = pd.read_csv('model_df.csv')\n",
    "model_df.drop(columns='Unnamed: 0', inplace=True)"
   ]
  },
  {
   "cell_type": "code",
   "execution_count": 136,
   "metadata": {},
   "outputs": [
    {
     "data": {
      "text/plain": [
       "24410"
      ]
     },
     "execution_count": 136,
     "metadata": {},
     "output_type": "execute_result"
    }
   ],
   "source": [
    "model_df['target'].value_counts().sum()"
   ]
  },
  {
   "cell_type": "code",
   "execution_count": 7,
   "metadata": {
    "scrolled": true
   },
   "outputs": [
    {
     "data": {
      "text/plain": [
       "0    0.766858\n",
       "1    0.233142\n",
       "Name: target, dtype: float64"
      ]
     },
     "execution_count": 7,
     "metadata": {},
     "output_type": "execute_result"
    }
   ],
   "source": [
    "model_df['target'].value_counts(normalize = True)"
   ]
  },
  {
   "cell_type": "markdown",
   "metadata": {},
   "source": [
    "Our dataframe as about a 0.76 and 0.24 separation of emergency and non-emergency tweets. We decided to make the target variable unproportional because if our project was applied to a real-time situation, we assume that the tweets would be proportioned as such."
   ]
  },
  {
   "cell_type": "markdown",
   "metadata": {},
   "source": [
    "## Stop Words\n",
    "<a id = 'stop'> </a> "
   ]
  },
  {
   "cell_type": "markdown",
   "metadata": {},
   "source": [
    "The below stop words were added to our list based on our eda investigation. Any term that started with an \"x\" refers to different punctuation markers in tweets. We removed all terms that referred to the names of the fires that were scraped for our project to remove bias. \n",
    "\n",
    "Because of certain celebrities affected by the fires, we also found that we had to add Lebron James and John Cena to the stop words list because they appeared too many times in our sample. _(Lebron James had to evacuate from his home, John Cena donated half a million dollars to the effort of fighting fires)_"
   ]
  },
  {
   "cell_type": "code",
   "execution_count": 8,
   "metadata": {},
   "outputs": [],
   "source": [
    "custom_stop = list(ENGLISH_STOP_WORDS)\n",
    "custom_stop.extend([\"b'RT\",\"000\", \"x80\", \"x82\", \"x8f\", \"x99\", \"x94\", \"x98\", \"x99m\", \"x99s\", \"x9d\", \"x9f\", \"xa5\", \n",
    "                    \"xa6\", \"xa6'RT\", \"xa6'b'RT\", \"xa6'b'\", \"xb8\", \"xe2\", \"xef\", \"xf0\", \"amp\", 'angele', 'angeles',\n",
    "                    \"b'\", \"Center\", 'center', 'com', \"Getty\", 'getty', 'gettyfire', \"Getty Center\", \"GettyFire\",\n",
    "                    'kincade', \"instagram\", \"htpps\", \"http\", 'John Cena', \"nhttp\", \"nhttps\", 'lebron', 'los', \"Los Angeles\", \"Los Angele\",\n",
    "                    \"Los\", \"Angele\", \"outfit\", 'rd', 'rt', \"taco\", \"tick\", \"truck\", \"taco truck\", \"www\", \"instagram\", \n",
    "                    \"xa6'b'RT\", \"xa6'b'\", \"xa6'RT\", \"xb8\", \"x9d\", \"xef\", \"x8f\", 'http','colorado','co',\n",
    "                    'springs','waldo','canyon','cofire','rt','boulder','waldocanyonfire', 'highparkfire','denverpost',\n",
    "                    'denver','colo', 'tickfire', 'tick', 'kincadefire', 'mariafire', 'saddleridge', \n",
    "                    'center', 'sonoma', 'sonoma county', 'county' ])"
   ]
  },
  {
   "cell_type": "markdown",
   "metadata": {},
   "source": [
    "# Modeling\n",
    "<a id = 'modeling'> </a> "
   ]
  },
  {
   "cell_type": "markdown",
   "metadata": {},
   "source": [
    "We decided to stick to a tfidf vectorizer because this transformer focus' on the more rare words within the data. With the Tf-idf model, it puts lower weight on the more common terms that would appear such as \"fire\", \"smoke\", etc. By doing this, there will be more emphasis on rare terms that appear in our target classs. All the gridsearches we did below contains Tf-idf as the model transformer; the gridsearches will only focus model estimators"
   ]
  },
  {
   "cell_type": "markdown",
   "metadata": {},
   "source": [
    "## Train Test Split\n",
    "<a id = 'tts'> </a> "
   ]
  },
  {
   "cell_type": "code",
   "execution_count": 9,
   "metadata": {},
   "outputs": [],
   "source": [
    "X = model_df['text']\n",
    "y = model_df['target']\n",
    "X_train, X_test, y_train, y_test = train_test_split(X, y, stratify=y, test_size = 0.33, random_state=248)"
   ]
  },
  {
   "cell_type": "code",
   "execution_count": 10,
   "metadata": {},
   "outputs": [],
   "source": [
    "X_union = model_df[['text', 'sia_positive', 'sia_negative','sia_neutral', 'sia_compound']]\n",
    "y_union = model_df['target']\n",
    "\n",
    "X_union_train, X_union_test, y_union_train, y_union_test = train_test_split(X_union, y_union, test_size=0.33, \n",
    "                                                                               stratify=y, random_state=248)"
   ]
  },
  {
   "cell_type": "markdown",
   "metadata": {},
   "source": [
    "We are creating different splits for different models. Half of the splits will contain only text. The other half of the splits will contain text and the sentiment scores"
   ]
  },
  {
   "cell_type": "code",
   "execution_count": 11,
   "metadata": {},
   "outputs": [],
   "source": [
    "# create functions to group features based on data type\n",
    "def get_text(data):\n",
    "    return data['text']\n",
    "\n",
    "def get_numeric(data):\n",
    "    return data[['sia_positive', 'sia_negative','sia_neutral', 'sia_compound']]\n",
    "\n",
    "# create function transformer for text features\n",
    "get_text_tf = FunctionTransformer(get_text, validate=False)\n",
    "# create function transformer for numeric features\n",
    "get_numeric_tf = FunctionTransformer(get_numeric, validate=False)"
   ]
  },
  {
   "cell_type": "markdown",
   "metadata": {},
   "source": [
    "## TFIDF & Logistic Regression\n",
    "<a id = 'logistic'> </a> "
   ]
  },
  {
   "cell_type": "code",
   "execution_count": 13,
   "metadata": {},
   "outputs": [
    {
     "name": "stdout",
     "output_type": "stream",
     "text": [
      "Fitting 5 folds for each of 81 candidates, totalling 405 fits\n"
     ]
    },
    {
     "name": "stderr",
     "output_type": "stream",
     "text": [
      "[Parallel(n_jobs=-1)]: Using backend LokyBackend with 4 concurrent workers.\n",
      "[Parallel(n_jobs=-1)]: Done  42 tasks      | elapsed:   14.5s\n",
      "[Parallel(n_jobs=-1)]: Done 192 tasks      | elapsed:   48.5s\n",
      "[Parallel(n_jobs=-1)]: Done 405 out of 405 | elapsed:  1.7min finished\n"
     ]
    },
    {
     "name": "stdout",
     "output_type": "stream",
     "text": [
      "gs_1_lr completed\n",
      "Fitting 5 folds for each of 1 candidates, totalling 5 fits\n"
     ]
    },
    {
     "name": "stderr",
     "output_type": "stream",
     "text": [
      "[Parallel(n_jobs=-1)]: Using backend LokyBackend with 4 concurrent workers.\n",
      "[Parallel(n_jobs=-1)]: Done   5 out of   5 | elapsed:    3.7s finished\n"
     ]
    },
    {
     "name": "stdout",
     "output_type": "stream",
     "text": [
      "gs_2_lr completed\n"
     ]
    },
    {
     "name": "stderr",
     "output_type": "stream",
     "text": [
      "C:\\Users\\Brianna Lytle\\Anaconda3\\lib\\site-packages\\sklearn\\linear_model\\logistic.py:947: ConvergenceWarning: lbfgs failed to converge. Increase the number of iterations.\n",
      "  \"of iterations.\", ConvergenceWarning)\n"
     ]
    }
   ],
   "source": [
    "pipe_1_lr = Pipeline([\n",
    "    ('tfidf', TfidfVectorizer()),\n",
    "    ('lr', LogisticRegression(solver = 'lbfgs'))\n",
    "])\n",
    "\n",
    "pipe_1_lr_params = {\n",
    "    'tfidf__stop_words': [custom_stop],\n",
    "    'tfidf__max_features': [300, 500, 1000],\n",
    "    'tfidf__min_df': [5, 10, 20],\n",
    "    'tfidf__max_df': [0.85, 0.8, 0.9],\n",
    "    'lr__C': [0.001, 0.01, 1]\n",
    "}\n",
    "\n",
    "gs_1_lr = GridSearchCV(pipe_1_lr,\n",
    "                   pipe_1_lr_params,\n",
    "                   cv = 5,\n",
    "                   verbose = 1,\n",
    "                   n_jobs=-1)\n",
    "gs_1_lr.fit(X_train, y_train)\n",
    "print('gs_1_lr completed')\n",
    "#-------------------------------------------------------\n",
    "pipe_2_lr = Pipeline([\n",
    "    ('union', FeatureUnion([\n",
    "        ('numeric', get_numeric_tf),\n",
    "        ('text', Pipeline([\n",
    "            ('selector', get_text_tf),\n",
    "            ('tfidf', TfidfVectorizer(stop_words=custom_stop, max_features=1200, ngram_range=(1,2)))\n",
    "        ]))\n",
    "    ])),\n",
    "    ('logreg', LogisticRegression(penalty='l2', C=1, solver = 'lbfgs'))\n",
    "])\n",
    "\n",
    "pipe_2_lr_params = {}\n",
    "\n",
    "gs_2_lr = GridSearchCV(pipe_2_lr, pipe_2_lr_params, cv=5, verbose = 1, n_jobs = -1)\n",
    "gs_2_lr.fit(X_union_train, y_union_train)\n",
    "print('gs_2_lr completed')"
   ]
  },
  {
   "cell_type": "code",
   "execution_count": 35,
   "metadata": {},
   "outputs": [
    {
     "data": {
      "text/plain": [
       "0.9249724837960132"
      ]
     },
     "execution_count": 35,
     "metadata": {},
     "output_type": "execute_result"
    }
   ],
   "source": [
    "gs_1_lr.score(X_train, y_train)"
   ]
  },
  {
   "cell_type": "code",
   "execution_count": 38,
   "metadata": {},
   "outputs": [
    {
     "name": "stdout",
     "output_type": "stream",
     "text": [
      "gs_1_lr training best estimator is 0.9249724837960132, gs_1_lr test best score is 0.9123634558093346\n",
      "gs_1_lr confusion matrix is \n",
      "[[5987  191]\n",
      " [ 515 1363]]\n",
      "gs_2_lr training best estimator is 0.9294362235538706, gs_2_lr test best score is 0.9163356504468719\n",
      "gs_2_lr confusion matrix is \n",
      "[[5984  194]\n",
      " [ 480 1398]]\n"
     ]
    }
   ],
   "source": [
    "preds1_lr = gs_1_lr.predict(X_test)\n",
    "preds2_lr = gs_2_lr.predict(X_union_test)\n",
    "print(f'gs_1_lr training best estimator is {gs_1_lr.score(X_train, y_train)}, gs_1_lr test best score is {gs_1_lr.score(X_test, y_test)}')\n",
    "print(f'gs_1_lr confusion matrix is \\n{confusion_matrix(y_test, preds1_lr)}')\n",
    "print(f'gs_2_lr training best estimator is {gs_2_lr.score(X_union_train, y_union_train)}, gs_2_lr test best score is {gs_2_lr.score(X_union_test, y_union_test)}')\n",
    "print(f'gs_2_lr confusion matrix is \\n{confusion_matrix(y_union_test, preds2_lr)}')"
   ]
  },
  {
   "cell_type": "markdown",
   "metadata": {},
   "source": [
    "## TFIDF & RandomForest\n",
    "<a id = 'random'> </a> "
   ]
  },
  {
   "cell_type": "code",
   "execution_count": 15,
   "metadata": {
    "scrolled": true
   },
   "outputs": [
    {
     "name": "stdout",
     "output_type": "stream",
     "text": [
      "Fitting 5 folds for each of 81 candidates, totalling 405 fits\n"
     ]
    },
    {
     "name": "stderr",
     "output_type": "stream",
     "text": [
      "[Parallel(n_jobs=-1)]: Using backend LokyBackend with 4 concurrent workers.\n",
      "[Parallel(n_jobs=-1)]: Done  42 tasks      | elapsed:   18.8s\n",
      "[Parallel(n_jobs=-1)]: Done 192 tasks      | elapsed:  1.2min\n",
      "[Parallel(n_jobs=-1)]: Done 405 out of 405 | elapsed:  2.2min finished\n",
      "C:\\Users\\Brianna Lytle\\Anaconda3\\lib\\site-packages\\sklearn\\ensemble\\forest.py:245: FutureWarning: The default value of n_estimators will change from 10 in version 0.20 to 100 in 0.22.\n",
      "  \"10 in version 0.20 to 100 in 0.22.\", FutureWarning)\n"
     ]
    },
    {
     "name": "stdout",
     "output_type": "stream",
     "text": [
      "gs_1_rf completed\n",
      "Fitting 5 folds for each of 1 candidates, totalling 5 fits\n"
     ]
    },
    {
     "name": "stderr",
     "output_type": "stream",
     "text": [
      "[Parallel(n_jobs=-1)]: Using backend LokyBackend with 4 concurrent workers.\n",
      "[Parallel(n_jobs=-1)]: Done   5 out of   5 | elapsed:    4.1s finished\n"
     ]
    },
    {
     "name": "stdout",
     "output_type": "stream",
     "text": [
      "gs_2_rf completed\n"
     ]
    }
   ],
   "source": [
    "pipe_1_rf = Pipeline([\n",
    "    ('tfidf', TfidfVectorizer()),\n",
    "    ('rf', RandomForestClassifier())\n",
    "])\n",
    "\n",
    "pipe_1_rf_params = {\n",
    "    'tfidf__stop_words': [custom_stop],\n",
    "    'tfidf__max_features': [300, 500, 1000],\n",
    "    'tfidf__min_df': [10, 25, 50],\n",
    "    'tfidf__max_df': [0.7, 0.8, 0.9],\n",
    "    'rf__max_depth' : [None, 1, 2],\n",
    "    \n",
    "}\n",
    "\n",
    "gs_1_rf = GridSearchCV(pipe_1_rf,\n",
    "                   pipe_1_rf_params,\n",
    "                   cv = 5,\n",
    "                   verbose = 1,\n",
    "                   n_jobs=-1)\n",
    "gs_1_rf.fit(X_train, y_train)\n",
    "print('gs_1_rf completed')\n",
    "#------------------------------------------------------\n",
    "pipe_2_rf = Pipeline([\n",
    "    ('union', FeatureUnion([\n",
    "        ('numeric', get_numeric_tf),\n",
    "        ('text', Pipeline([\n",
    "            ('selector', get_text_tf),\n",
    "            ('tfidf', TfidfVectorizer(stop_words=custom_stop, max_features=1200, ngram_range=(1,2)))\n",
    "        ]))\n",
    "    ])),\n",
    "    ('rf', RandomForestClassifier(n_estimators = 10))\n",
    "])\n",
    "\n",
    "pipe_2_rf_params = {}\n",
    "\n",
    "gs_2_rf = GridSearchCV(pipe_2_rf, pipe_2_rf_params, cv=5, verbose = 1, n_jobs = -1)\n",
    "gs_2_rf.fit(X_union_train, y_union_train)\n",
    "print('gs_2_rf completed')"
   ]
  },
  {
   "cell_type": "code",
   "execution_count": 39,
   "metadata": {},
   "outputs": [
    {
     "name": "stdout",
     "output_type": "stream",
     "text": [
      "gs_1_rf training best estimator is 0.9843463372875138, gs_1_rf test best score is 0.9221698113207547\n",
      "gs_1_rf confusion matrix is \n",
      "[[5948  230]\n",
      " [ 397 1481]]\n",
      "gs_2_rf training best estimator is 0.9904610492845787, gs_2_rf test best score is 0.9155908639523337\n",
      "gs_2_rf confusion matrix is \n",
      "[[5965  213]\n",
      " [ 467 1411]]\n"
     ]
    }
   ],
   "source": [
    "preds1_rf = gs_1_rf.predict(X_test)\n",
    "preds2_rf = gs_2_rf.predict(X_union_test)\n",
    "print(f'gs_1_rf training best estimator is {gs_1_rf.score(X_train, y_train)}, gs_1_rf test best score is {gs_1_rf.score(X_test, y_test)}')\n",
    "print(f'gs_1_rf confusion matrix is \\n{confusion_matrix(y_test, preds1_rf)}')\n",
    "print(f'gs_2_rf training best estimator is {gs_2_rf.score(X_union_train, y_union_train)}, gs_2_rf test best score is {gs_2_rf.score(X_union_test, y_union_test)}')\n",
    "print(f'gs_2_rf confusion matrix is \\n{confusion_matrix(y_union_test, preds2_rf)}')"
   ]
  },
  {
   "cell_type": "markdown",
   "metadata": {},
   "source": [
    "## TFIDF & Bagging Classifier\n",
    "<a id = 'bagging'> </a> "
   ]
  },
  {
   "cell_type": "code",
   "execution_count": 16,
   "metadata": {
    "scrolled": true
   },
   "outputs": [
    {
     "name": "stdout",
     "output_type": "stream",
     "text": [
      "Fitting 5 folds for each of 486 candidates, totalling 2430 fits\n"
     ]
    },
    {
     "name": "stderr",
     "output_type": "stream",
     "text": [
      "[Parallel(n_jobs=-1)]: Using backend LokyBackend with 4 concurrent workers.\n",
      "[Parallel(n_jobs=-1)]: Done  42 tasks      | elapsed:   10.5s\n",
      "[Parallel(n_jobs=-1)]: Done 192 tasks      | elapsed:   45.1s\n",
      "[Parallel(n_jobs=-1)]: Done 442 tasks      | elapsed:  1.7min\n",
      "[Parallel(n_jobs=-1)]: Done 792 tasks      | elapsed:  3.2min\n",
      "[Parallel(n_jobs=-1)]: Done 1242 tasks      | elapsed:  5.1min\n",
      "[Parallel(n_jobs=-1)]: Done 1792 tasks      | elapsed:  7.7min\n",
      "[Parallel(n_jobs=-1)]: Done 2430 out of 2430 | elapsed: 11.0min finished\n"
     ]
    },
    {
     "name": "stdout",
     "output_type": "stream",
     "text": [
      "gs_1_bt completed\n",
      "Fitting 5 folds for each of 1 candidates, totalling 5 fits\n"
     ]
    },
    {
     "name": "stderr",
     "output_type": "stream",
     "text": [
      "[Parallel(n_jobs=-1)]: Using backend LokyBackend with 4 concurrent workers.\n",
      "[Parallel(n_jobs=-1)]: Done   5 out of   5 | elapsed:   32.8s finished\n"
     ]
    },
    {
     "name": "stdout",
     "output_type": "stream",
     "text": [
      "gs_2_bt completed\n"
     ]
    }
   ],
   "source": [
    "pipe_1_bt = Pipeline([\n",
    "    ('tfidf', TfidfVectorizer()),\n",
    "    ('bt', BaggingClassifier())\n",
    "])\n",
    "\n",
    "\n",
    "pipe_1_bt_params = {\n",
    "    'tfidf__stop_words': [custom_stop],\n",
    "    'tfidf__max_features': [1500, 1700, 2000],\n",
    "    'tfidf__min_df': [35, 37, 42],\n",
    "    'tfidf__max_df': [0.85, 0.9],\n",
    "    'bt__n_estimators' : [1, 2, 3],\n",
    "    'bt__max_samples' : [1, 2, 3],\n",
    "    'bt__max_features' : [1, 2, 3],\n",
    "}\n",
    "\n",
    "gs_1_bt = GridSearchCV(pipe_1_bt,\n",
    "                   pipe_1_bt_params,\n",
    "                   cv = 5,\n",
    "                   verbose = 1,\n",
    "                   n_jobs=-1)\n",
    "gs_1_bt.fit(X_train, y_train)\n",
    "print('gs_1_bt completed')\n",
    "#---------------------------------------------------\n",
    "pipe_2_bt = Pipeline([\n",
    "    ('union', FeatureUnion([\n",
    "        ('numeric', get_numeric_tf),\n",
    "        ('text', Pipeline([\n",
    "            ('selector', get_text_tf),\n",
    "            ('tfidf', TfidfVectorizer(stop_words=custom_stop, max_features=1200, ngram_range=(1,2)))\n",
    "        ]))\n",
    "    ])),\n",
    "    ('bt', BaggingClassifier())\n",
    "])\n",
    "\n",
    "pipe_2_bt_params = {}\n",
    "\n",
    "gs_2_bt = GridSearchCV(pipe_2_bt, pipe_2_bt_params, cv=5, verbose = 1, n_jobs = -1)\n",
    "gs_2_bt.fit(X_union_train, y_union_train)\n",
    "print('gs_2_bt completed')"
   ]
  },
  {
   "cell_type": "code",
   "execution_count": 40,
   "metadata": {},
   "outputs": [
    {
     "name": "stdout",
     "output_type": "stream",
     "text": [
      "gs_1_bt training best estimator is 0.7668460315519139, gs_1_bt test best score is 0.7668818272095332\n",
      "gs_1_bt confusion matrix is \n",
      "[[6178    0]\n",
      " [1878    0]]\n",
      "gs_2_bt training best estimator is 0.9888100770453712, gs_2_bt test best score is 0.903798411122145\n",
      "gs_2_bt confusion matrix is \n",
      "[[5857  321]\n",
      " [ 454 1424]]\n"
     ]
    }
   ],
   "source": [
    "preds1_bt = gs_1_bt.predict(X_test)\n",
    "preds2_bt = gs_2_bt.predict(X_union_test)\n",
    "print(f'gs_1_bt training best estimator is {gs_1_bt.score(X_train, y_train)}, gs_1_bt test best score is {gs_1_bt.score(X_test, y_test)}')\n",
    "print(f'gs_1_bt confusion matrix is \\n{confusion_matrix(y_test, preds1_bt)}')\n",
    "print(f'gs_2_bt training best estimator is {gs_2_bt.score(X_union_train, y_union_train)}, gs_2_bt test best score is {gs_2_bt.score(X_union_test, y_union_test)}')\n",
    "print(f'gs_2_bt confusion matrix is \\n{confusion_matrix(y_union_test, preds2_bt)}')"
   ]
  },
  {
   "cell_type": "markdown",
   "metadata": {},
   "source": [
    "## TFIDF & KNN\n",
    "<a id = 'knn'> </a> "
   ]
  },
  {
   "cell_type": "code",
   "execution_count": 17,
   "metadata": {
    "scrolled": true
   },
   "outputs": [
    {
     "name": "stdout",
     "output_type": "stream",
     "text": [
      "Fitting 5 folds for each of 162 candidates, totalling 810 fits\n"
     ]
    },
    {
     "name": "stderr",
     "output_type": "stream",
     "text": [
      "[Parallel(n_jobs=-1)]: Using backend LokyBackend with 4 concurrent workers.\n",
      "[Parallel(n_jobs=-1)]: Done  42 tasks      | elapsed:   41.9s\n",
      "[Parallel(n_jobs=-1)]: Done 192 tasks      | elapsed:  2.9min\n",
      "[Parallel(n_jobs=-1)]: Done 442 tasks      | elapsed:  6.5min\n",
      "[Parallel(n_jobs=-1)]: Done 792 tasks      | elapsed: 12.6min\n",
      "[Parallel(n_jobs=-1)]: Done 810 out of 810 | elapsed: 12.9min finished\n"
     ]
    },
    {
     "name": "stdout",
     "output_type": "stream",
     "text": [
      "gs_1_knn completed\n",
      "Fitting 5 folds for each of 1 candidates, totalling 5 fits\n"
     ]
    },
    {
     "name": "stderr",
     "output_type": "stream",
     "text": [
      "[Parallel(n_jobs=-1)]: Using backend LokyBackend with 4 concurrent workers.\n",
      "[Parallel(n_jobs=-1)]: Done   5 out of   5 | elapsed:   13.3s finished\n"
     ]
    },
    {
     "name": "stdout",
     "output_type": "stream",
     "text": [
      "gs_2_knn completed\n"
     ]
    }
   ],
   "source": [
    "pipe_1_knn = Pipeline([\n",
    "    ('tfidf', TfidfVectorizer()),\n",
    "    ('knn', KNeighborsClassifier())\n",
    "])\n",
    "\n",
    "pipe_1_knn_params = {\n",
    "    'tfidf__stop_words': [custom_stop],\n",
    "    'tfidf__max_features': [1500, 1700, 2000],\n",
    "    'tfidf__min_df': [35, 37, 42],\n",
    "    'tfidf__max_df': [0.85, 0.9],\n",
    "    'knn__n_neighbors': [3, 5, 7],\n",
    "    'knn__leaf_size': [20, 30, 50],\n",
    "}\n",
    "\n",
    "gs_1_knn = GridSearchCV(pipe_1_knn,\n",
    "                   pipe_1_knn_params,\n",
    "                   cv = 5,\n",
    "                   verbose = 1,\n",
    "                   n_jobs=-1)\n",
    "    \n",
    "gs_1_knn.fit(X_train, y_train)\n",
    "print('gs_1_knn completed')\n",
    "#--------------------------------------\n",
    "pipe_2_knn = Pipeline([\n",
    "    ('union', FeatureUnion([\n",
    "        ('numeric', get_numeric_tf),\n",
    "        ('text', Pipeline([\n",
    "            ('selector', get_text_tf),\n",
    "            ('tfidf', TfidfVectorizer(stop_words=custom_stop, max_features=1200, ngram_range=(1,2)))\n",
    "        ]))\n",
    "    ])),\n",
    "    ('knn', KNeighborsClassifier())\n",
    "])\n",
    "\n",
    "pipe_2_knn_params = {}\n",
    "\n",
    "gs_2_knn = GridSearchCV(pipe_2_knn, pipe_2_knn_params, cv=5, verbose = 1, n_jobs = -1)\n",
    "gs_2_knn.fit(X_union_train, y_union_train)\n",
    "print('gs_2_knn completed')"
   ]
  },
  {
   "cell_type": "code",
   "execution_count": 41,
   "metadata": {},
   "outputs": [
    {
     "name": "stdout",
     "output_type": "stream",
     "text": [
      "gs_1_knn training best estimator is 0.9276018099547512, gs_1_knn test best score is 0.8783515392254221\n",
      "gs_1_knn confusion matrix is \n",
      "[[5941  237]\n",
      " [ 743 1135]]\n",
      "gs_2_knn training best estimator is 0.8789287024581143, gs_2_knn test best score is 0.8402432969215492\n",
      "gs_2_knn confusion matrix is \n",
      "[[6091   87]\n",
      " [1200  678]]\n"
     ]
    }
   ],
   "source": [
    "preds1_knn = gs_1_knn.predict(X_test)\n",
    "preds2_knn = gs_2_knn.predict(X_union_test)\n",
    "print(f'gs_1_knn training best estimator is {gs_1_knn.score(X_train, y_train)}, gs_1_knn test best score is {gs_1_knn.score(X_test, y_test)}')\n",
    "print(f'gs_1_knn confusion matrix is \\n{confusion_matrix(y_test, preds1_knn)}')\n",
    "print(f'gs_2_knn training best estimator is {gs_2_knn.score(X_union_train, y_union_train)}, gs_2_knn test best score is {gs_2_knn.score(X_union_test, y_union_test)}')\n",
    "print(f'gs_2_knn confusion matrix is \\n{confusion_matrix(y_union_test, preds2_knn)}')"
   ]
  },
  {
   "cell_type": "markdown",
   "metadata": {},
   "source": [
    "## TFIDF & XG Boost\n",
    "<a id = 'xgboost'> </a> "
   ]
  },
  {
   "cell_type": "code",
   "execution_count": 18,
   "metadata": {
    "scrolled": true
   },
   "outputs": [
    {
     "name": "stdout",
     "output_type": "stream",
     "text": [
      "Fitting 5 folds for each of 108 candidates, totalling 540 fits\n"
     ]
    },
    {
     "name": "stderr",
     "output_type": "stream",
     "text": [
      "[Parallel(n_jobs=-1)]: Using backend LokyBackend with 4 concurrent workers.\n",
      "[Parallel(n_jobs=-1)]: Done  42 tasks      | elapsed:  4.2min\n",
      "[Parallel(n_jobs=-1)]: Done 192 tasks      | elapsed: 19.0min\n",
      "[Parallel(n_jobs=-1)]: Done 442 tasks      | elapsed: 42.7min\n",
      "[Parallel(n_jobs=-1)]: Done 540 out of 540 | elapsed: 53.1min finished\n"
     ]
    },
    {
     "name": "stdout",
     "output_type": "stream",
     "text": [
      "gs_1_xg completed\n",
      "Fitting 5 folds for each of 1 candidates, totalling 5 fits\n"
     ]
    },
    {
     "name": "stderr",
     "output_type": "stream",
     "text": [
      "[Parallel(n_jobs=-1)]: Using backend LokyBackend with 4 concurrent workers.\n",
      "[Parallel(n_jobs=-1)]: Done   5 out of   5 | elapsed:   10.4s finished\n"
     ]
    },
    {
     "name": "stdout",
     "output_type": "stream",
     "text": [
      "gs_2_xg completed\n"
     ]
    }
   ],
   "source": [
    "pipe_1_xg = Pipeline([\n",
    "    ('tfidf', TfidfVectorizer()),\n",
    "    ('xg', XGBClassifier())\n",
    "])\n",
    "\n",
    "pipe_1_xg_params = {\n",
    "    'tfidf__stop_words': [custom_stop],\n",
    "    'tfidf__max_features': [1500, 1700, 2000],\n",
    "    'tfidf__min_df': [35, 37, 42],\n",
    "    'tfidf__max_df': [0.85, 0.9],\n",
    "    'xg__n_estimators': [100, 700, 1500],\n",
    "    'xg__max_depth':[3,5]\n",
    "}\n",
    "\n",
    "gs_1_xg = GridSearchCV(pipe_1_xg, \n",
    "                       pipe_1_xg_params, \n",
    "                       cv=5, verbose=1, \n",
    "                       n_jobs=-1)\n",
    "\n",
    "gs_1_xg.fit(X_train, y_train)\n",
    "print('gs_1_xg completed')\n",
    "\n",
    "#--------------------------------------------\n",
    "\n",
    "pipe_2_xg = Pipeline([\n",
    "    ('union', FeatureUnion([\n",
    "        ('numeric', get_numeric_tf),\n",
    "        ('text', Pipeline([\n",
    "            ('selector', get_text_tf),\n",
    "            ('tfidf', TfidfVectorizer(stop_words=custom_stop, max_features=1200, ngram_range=(1,2)))\n",
    "        ]))\n",
    "    ])),\n",
    "    ('xg', XGBClassifier())\n",
    "])\n",
    "\n",
    "pipe_2_xg_params = {}\n",
    "\n",
    "gs_2_xg = GridSearchCV(pipe_2_xg, pipe_2_xg_params, cv=5, verbose = 1, n_jobs = -1)\n",
    "gs_2_xg.fit(X_union_train, y_union_train)\n",
    "print('gs_2_xg completed')"
   ]
  },
  {
   "cell_type": "code",
   "execution_count": 42,
   "metadata": {},
   "outputs": [
    {
     "name": "stdout",
     "output_type": "stream",
     "text": [
      "gs_1_xg training best estimator is 0.9605601076189312, gs_1_xg test best score is 0.9196871896722939\n",
      "gs_1_xg confusion matrix is \n",
      "[[5968  210]\n",
      " [ 437 1441]]\n",
      "gs_2_xg training best estimator is 0.8975785740491623, gs_2_xg test best score is 0.8895233366434955\n",
      "gs_2_xg confusion matrix is \n",
      "[[5935  243]\n",
      " [ 647 1231]]\n"
     ]
    }
   ],
   "source": [
    "preds1_xg = gs_1_xg.predict(X_test)\n",
    "preds2_xg = gs_2_xg.predict(X_union_test)\n",
    "print(f'gs_1_xg training best estimator is {gs_1_xg.score(X_train, y_train)}, gs_1_xg test best score is {gs_1_xg.score(X_test, y_test)}')\n",
    "print(f'gs_1_xg confusion matrix is \\n{confusion_matrix(y_test, preds1_xg)}')\n",
    "print(f'gs_2_xg training best estimator is {gs_2_xg.score(X_union_train, y_union_train)}, gs_2_xg test best score is {gs_2_xg.score(X_union_test, y_union_test)}')\n",
    "print(f'gs_2_xg confusion matrix is \\n{confusion_matrix(y_union_test, preds2_xg)}')"
   ]
  },
  {
   "cell_type": "markdown",
   "metadata": {},
   "source": [
    "# Final Model Scores\n",
    "<a id = 'scores'> </a> "
   ]
  },
  {
   "cell_type": "markdown",
   "metadata": {},
   "source": [
    "Below is a table that displays all of our models that were tested and a calculation of other rates based on the results of the models' confusion matrix"
   ]
  },
  {
   "cell_type": "markdown",
   "metadata": {},
   "source": [
    "Model | Train Score | Test Score | Misclassification | Sensitivity | Specificity | Precision |\n",
    "-------|-------------| --------|-------| ------| ------|----------|\n",
    "Tf-idf / Logistic Regression |.924972 |.912363| .08764 |.9208 | .87709 | .9691 |\n",
    "Tf-idf / Logsitic Regression Union |.929436|.916335 | .83664 | .9257 | .87814 | .96859 |\n",
    "Tf-idf / Random Forest |.984346|.92217 | .077802 | .933743 | .8728 | .86557 |\n",
    "Tf-idf / Random Forest Union |.990461| .91559 | .08441 | .92739 | .8351 | .86884 |\n",
    "Tf-idf / Bagging Classifier | .766846 | .766881 | .233119 | .76688 | 0 | 100% |\n",
    "Tf-idf / Bagging Classifier Union | . 98881 | .903798 | .0963 | .92806 | .8146 | .94804 |\n",
    "Tf-idf / KNN | .927602 |.878351 | .121649 | .888839 | .82726 | .96164 |\n",
    "Tf-idf / KNN Union | .878928 | .840243 | .159757 | .83541 | .88627 | .98591 |\n",
    "Tf-idf / XG Boost | .96056 | .919687 | .08531 | .93177 | .8728 | .966 |\n",
    "Tf-idf / XG Boost Union | .89758 | .88952 | .11846 | .9017 | .8351 | .96067 |"
   ]
  },
  {
   "cell_type": "markdown",
   "metadata": {},
   "source": [
    "Based on all calculations and the results of the ROC AUC curve, we find that a model using **Tf-idf and Random Forest Classifier** will display the best results for our web application at this time. The Random Forest classification model may be overfit; however, the model gave us the best accuracy score, missclassification rate, and sensitivity score."
   ]
  },
  {
   "cell_type": "markdown",
   "metadata": {},
   "source": [
    "## ROC AUC Cuve\n",
    "<a id = 'rocauc'> </a> "
   ]
  },
  {
   "cell_type": "code",
   "execution_count": 177,
   "metadata": {},
   "outputs": [],
   "source": [
    "from sklearn.metrics import roc_curve, auc, roc_auc_score"
   ]
  },
  {
   "cell_type": "code",
   "execution_count": 59,
   "metadata": {},
   "outputs": [
    {
     "data": {
      "image/png": "[encoded data removed]",
      "text/plain": [
       "<Figure size 720x720 with 1 Axes>"
      ]
     },
     "metadata": {
      "needs_background": "light"
     },
     "output_type": "display_data"
    }
   ],
   "source": [
    "# pos_predict = []\n",
    "models = [gs_2_lr, gs_1_rf, gs_2_bt, gs_2_knn ,gs_1_xg]\n",
    "model_names = ['gs_2_lr', 'gs_1_rf', 'gs_2_bt', 'gs_2_knn', 'gs_1_xg']\n",
    "plt.figure(figsize = (10,10))\n",
    "for z in range(len(models)):\n",
    "    if models[z] in [gs_1_rf, gs_1_xg]:\n",
    "        fpr, tpr, thresholds = roc_curve(y_test, models[z].predict_proba(X_test)[: , 1])\n",
    "        auc = roc_auc_score(y_test, models[z].predict(X_test))\n",
    "        plt.plot(fpr, tpr, label= '%s ROC (area = %0.2f)' % (model_names[z], auc))\n",
    "    else:\n",
    "        fpr, tpr, thresholds = roc_curve(y_union_test, models[z].predict_proba(X_union_test)[: , 1])\n",
    "        auc = roc_auc_score(y_union_test, models[z].predict(X_union_test))\n",
    "        plt.plot(fpr, tpr, label= '%s ROC (area = %0.2f)' % (model_names[z], auc))\n",
    "\n",
    "# Custom settings for the plot\n",
    "plt.plot([0, 1], [0, 1],'r--')\n",
    "plt.xlim([0.0, 1.0])\n",
    "plt.ylim([0.0, 1.05])\n",
    "plt.xlabel('1-Specificity(False Positive Rate)')\n",
    "plt.ylabel('Sensitivity(True Positive Rate)')\n",
    "plt.title('Receiver Operating Characteristic')\n",
    "plt.legend(loc=\"lower right\")\n",
    "plt.show()"
   ]
  },
  {
   "cell_type": "markdown",
   "metadata": {},
   "source": [
    "## Distribution\n",
    "<a id = 'distribution'> </a> "
   ]
  },
  {
   "cell_type": "code",
   "execution_count": 113,
   "metadata": {},
   "outputs": [],
   "source": [
    "pred_proba = [i[1] for i in gs_1_rf.best_estimator_.predict_proba(X_test)]\n",
    "\n",
    "pred_df = pd.DataFrame({'true_values': y_test,\n",
    "                        'pred_probs':pred_proba},\n",
    "                        )"
   ]
  },
  {
   "cell_type": "code",
   "execution_count": 132,
   "metadata": {
    "scrolled": false
   },
   "outputs": [
    {
     "data": {
      "image/png": "[encoded data removed]",
      "text/plain": [
       "<Figure size 720x504 with 1 Axes>"
      ]
     },
     "metadata": {
      "needs_background": "light"
     },
     "output_type": "display_data"
    }
   ],
   "source": [
    "# Create figure.\n",
    "plt.figure(figsize = (10,7))\n",
    "\n",
    "# Create two histograms of observations.\n",
    "plt.hist(pred_df[pred_df['true_values'] == 0]['pred_probs'],\n",
    "         bins=25,\n",
    "         color='b',\n",
    "         alpha = 0.6,\n",
    "         label='Outcome = Non-Relevant')\n",
    "plt.hist(pred_df[pred_df['true_values'] == 1]['pred_probs'],\n",
    "         bins=25,\n",
    "         color='orange',\n",
    "         alpha = 0.6,\n",
    "         label='Outcome = Relevant')\n",
    "\n",
    "# Add vertical line at P(Outcome = 1) = 0.5.\n",
    "plt.vlines(x=0.5,\n",
    "           ymin = 0,\n",
    "           ymax = 5000,\n",
    "           color='r',\n",
    "           linestyle = '--')\n",
    "\n",
    "# Label axes.\n",
    "plt.title('Distribution of P(Outcome = Relevant)', fontsize=22)\n",
    "plt.ylabel('Frequency', fontsize=18)\n",
    "plt.xlabel('Predicted Probability that Outcome = Relevant', fontsize=18)\n",
    "\n",
    "# Create legend.\n",
    "plt.legend(fontsize=20);"
   ]
  },
  {
   "cell_type": "code",
   "execution_count": 131,
   "metadata": {},
   "outputs": [
    {
     "data": {
      "image/png": "[encoded data removed]",
      "text/plain": [
       "<Figure size 720x504 with 1 Axes>"
      ]
     },
     "metadata": {
      "needs_background": "light"
     },
     "output_type": "display_data"
    }
   ],
   "source": [
    "# Create figure.\n",
    "plt.figure(figsize = (10,7))\n",
    "\n",
    "# Create two histograms of observations.\n",
    "plt.hist(pred_df[pred_df['true_values'] == 0]['pred_probs'],\n",
    "         bins=25,\n",
    "         color='b',\n",
    "         alpha = 0.6,\n",
    "         label='Outcome = Non-Relevant')\n",
    "plt.hist(pred_df[pred_df['true_values'] == 1]['pred_probs'],\n",
    "         bins=25,\n",
    "         color='orange',\n",
    "         alpha = 0.6,\n",
    "         label='Outcome = Relevant')\n",
    "\n",
    "# Add vertical line at P(Outcome = 1) = 0.5.\n",
    "plt.vlines(x=0.25,\n",
    "           ymin = 0,\n",
    "           ymax = 5000,\n",
    "           color='r',\n",
    "           linestyle = '--')\n",
    "\n",
    "# Label axes.\n",
    "plt.title('Distribution of P(Outcome = Relevant)', fontsize=22)\n",
    "plt.ylabel('Frequency', fontsize=18)\n",
    "plt.xlabel('Predicted Probability that Outcome = Relevant', fontsize=18)\n",
    "\n",
    "# Create legend.\n",
    "plt.legend(fontsize=20);"
   ]
  },
  {
   "cell_type": "markdown",
   "metadata": {},
   "source": [
    "Below is a confusion matrix with a new threshold of 0.25 rather than 0.5. "
   ]
  },
  {
   "cell_type": "code",
   "execution_count": 123,
   "metadata": {},
   "outputs": [],
   "source": [
    "predicted_probs = gs_1_rf.best_estimator_.predict_proba(X_test)\n",
    "threshold = 0.25\n",
    "thresh_preds = (predicted_probs[:,1] >= threshold).astype('int')"
   ]
  },
  {
   "cell_type": "code",
   "execution_count": 124,
   "metadata": {},
   "outputs": [],
   "source": [
    "matrix2 = confusion_matrix(y_test, thresh_preds)"
   ]
  },
  {
   "cell_type": "code",
   "execution_count": 125,
   "metadata": {
    "scrolled": true
   },
   "outputs": [
    {
     "data": {
      "text/html": [
       "<div>\n",
       "<style scoped>\n",
       "    .dataframe tbody tr th:only-of-type {\n",
       "        vertical-align: middle;\n",
       "    }\n",
       "\n",
       "    .dataframe tbody tr th {\n",
       "        vertical-align: top;\n",
       "    }\n",
       "\n",
       "    .dataframe thead th {\n",
       "        text-align: right;\n",
       "    }\n",
       "</style>\n",
       "<table border=\"1\" class=\"dataframe\">\n",
       "  <thead>\n",
       "    <tr style=\"text-align: right;\">\n",
       "      <th></th>\n",
       "      <th>Pred Non-rev</th>\n",
       "      <th>Pred rev</th>\n",
       "    </tr>\n",
       "  </thead>\n",
       "  <tbody>\n",
       "    <tr>\n",
       "      <td>Actual Non-rev</td>\n",
       "      <td>5606</td>\n",
       "      <td>572</td>\n",
       "    </tr>\n",
       "    <tr>\n",
       "      <td>Actual rev</td>\n",
       "      <td>222</td>\n",
       "      <td>1656</td>\n",
       "    </tr>\n",
       "  </tbody>\n",
       "</table>\n",
       "</div>"
      ],
      "text/plain": [
       "                Pred Non-rev  Pred rev\n",
       "Actual Non-rev          5606       572\n",
       "Actual rev               222      1656"
      ]
     },
     "execution_count": 125,
     "metadata": {},
     "output_type": "execute_result"
    }
   ],
   "source": [
    "cm_df2 = pd.DataFrame(matrix2, columns=['Pred Non-rev', 'Pred rev'],\n",
    "            index = ['Actual Non-rev', 'Actual rev'])\n",
    "cm_df2"
   ]
  },
  {
   "cell_type": "code",
   "execution_count": 129,
   "metadata": {},
   "outputs": [
    {
     "name": "stdout",
     "output_type": "stream",
     "text": [
      "The Sensitivity score with a 0.25 threshold is 0.8817891373801917\n",
      "The Specificity score with a 0.25 threshold is 0.9074134023955973\n"
     ]
    }
   ],
   "source": [
    "print(f'The Sensitivity score with a 0.25 threshold is {1656 / (1656+222)}')\n",
    "print(f'The Specificity score with a 0.25 threshold is {5606 / (5606 + 572)}')"
   ]
  },
  {
   "cell_type": "markdown",
   "metadata": {},
   "source": [
    "With this new threshold, it increases the sensitivity score which means we are reducing the amount of false negatives"
   ]
  },
  {
   "cell_type": "markdown",
   "metadata": {},
   "source": [
    "## Most valuable terms\n",
    "<a id = 'weight'> </a>"
   ]
  },
  {
   "cell_type": "code",
   "execution_count": 102,
   "metadata": {},
   "outputs": [
    {
     "data": {
      "text/html": [
       "<div>\n",
       "<style scoped>\n",
       "    .dataframe tbody tr th:only-of-type {\n",
       "        vertical-align: middle;\n",
       "    }\n",
       "\n",
       "    .dataframe tbody tr th {\n",
       "        vertical-align: top;\n",
       "    }\n",
       "\n",
       "    .dataframe thead th {\n",
       "        text-align: right;\n",
       "    }\n",
       "</style>\n",
       "<table border=\"1\" class=\"dataframe\">\n",
       "  <thead>\n",
       "    <tr style=\"text-align: right;\">\n",
       "      <th></th>\n",
       "      <th>words</th>\n",
       "      <th>importance</th>\n",
       "    </tr>\n",
       "  </thead>\n",
       "  <tbody>\n",
       "    <tr>\n",
       "      <td>426</td>\n",
       "      <td>https</td>\n",
       "      <td>0.072318</td>\n",
       "    </tr>\n",
       "    <tr>\n",
       "      <td>888</td>\n",
       "      <td>twitter</td>\n",
       "      <td>0.034537</td>\n",
       "    </tr>\n",
       "    <tr>\n",
       "      <td>941</td>\n",
       "      <td>winds</td>\n",
       "      <td>0.025888</td>\n",
       "    </tr>\n",
       "    <tr>\n",
       "      <td>460</td>\n",
       "      <td>kincade</td>\n",
       "      <td>0.022349</td>\n",
       "    </tr>\n",
       "    <tr>\n",
       "      <td>31</td>\n",
       "      <td>acres</td>\n",
       "      <td>0.019505</td>\n",
       "    </tr>\n",
       "    <tr>\n",
       "      <td>800</td>\n",
       "      <td>status</td>\n",
       "      <td>0.017127</td>\n",
       "    </tr>\n",
       "    <tr>\n",
       "      <td>574</td>\n",
       "      <td>near</td>\n",
       "      <td>0.015504</td>\n",
       "    </tr>\n",
       "    <tr>\n",
       "      <td>174</td>\n",
       "      <td>colorado</td>\n",
       "      <td>0.015450</td>\n",
       "    </tr>\n",
       "    <tr>\n",
       "      <td>191</td>\n",
       "      <td>county</td>\n",
       "      <td>0.015280</td>\n",
       "    </tr>\n",
       "    <tr>\n",
       "      <td>122</td>\n",
       "      <td>brush</td>\n",
       "      <td>0.014894</td>\n",
       "    </tr>\n",
       "  </tbody>\n",
       "</table>\n",
       "</div>"
      ],
      "text/plain": [
       "        words  importance\n",
       "426     https    0.072318\n",
       "888   twitter    0.034537\n",
       "941     winds    0.025888\n",
       "460   kincade    0.022349\n",
       "31      acres    0.019505\n",
       "800    status    0.017127\n",
       "574      near    0.015504\n",
       "174  colorado    0.015450\n",
       "191    county    0.015280\n",
       "122     brush    0.014894"
      ]
     },
     "execution_count": 102,
     "metadata": {},
     "output_type": "execute_result"
    }
   ],
   "source": [
    "def what_importance(model):\n",
    "    features = model.best_estimator_.named_steps['tfidf'].get_feature_names()\n",
    "    scores = model.best_estimator_.named_steps['rf'].feature_importances_\n",
    "    table = {'words': features, 'importance': scores}\n",
    "    return pd.DataFrame(table).sort_values(by = 'importance', ascending = False).head(10)\n",
    "\n",
    "\n",
    "what_importance(gs_1_rf)"
   ]
  },
  {
   "cell_type": "markdown",
   "metadata": {},
   "source": [
    "# Pickling for Web Application\n",
    "<a id = 'pickle'> </a> "
   ]
  },
  {
   "cell_type": "code",
   "execution_count": 60,
   "metadata": {},
   "outputs": [],
   "source": [
    "import pickle\n",
    "pickle.dump(gs_1_rf, open('model.p', 'wb+'))"
   ]
  }
 ],
 "metadata": {
  "kernelspec": {
   "display_name": "Python 3",
   "language": "python",
   "name": "python3"
  },
  "language_info": {
   "codemirror_mode": {
    "name": "ipython",
    "version": 3
   },
   "file_extension": ".py",
   "mimetype": "text/x-python",
   "name": "python",
   "nbconvert_exporter": "python",
   "pygments_lexer": "ipython3",
   "version": "3.7.4"
  }
 },
 "nbformat": 4,
 "nbformat_minor": 2
}
